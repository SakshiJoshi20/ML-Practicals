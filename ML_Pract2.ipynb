{
  "nbformat": 4,
  "nbformat_minor": 0,
  "metadata": {
    "colab": {
      "provenance": [],
      "collapsed_sections": []
    },
    "kernelspec": {
      "name": "python3",
      "display_name": "Python 3"
    },
    "language_info": {
      "name": "python"
    }
  },
  "cells": [
    {
      "cell_type": "code",
      "execution_count": 1,
      "metadata": {
        "colab": {
          "base_uri": "https://localhost:8080/",
          "height": 0
        },
        "id": "zCo_lyDb3Qfi",
        "outputId": "af19d52d-e5ff-4207-dff2-cb33bff7c942"
      },
      "outputs": [
        {
          "output_type": "stream",
          "name": "stdout",
          "text": [
            "Confusion Matrix \n",
            " [[3 3]\n",
            " [2 2]]\n",
            "\n",
            "Report\n",
            "               precision    recall  f1-score   support\n",
            "\n",
            "           0       0.60      0.50      0.55         6\n",
            "           1       0.40      0.50      0.44         4\n",
            "\n",
            "    accuracy                           0.50        10\n",
            "   macro avg       0.50      0.50      0.49        10\n",
            "weighted avg       0.52      0.50      0.51        10\n",
            "\n"
          ]
        }
      ],
      "source": [
        "from sklearn.metrics import confusion_matrix\n",
        "from sklearn.metrics import classification_report\n",
        "\n",
        "A=[1,0,0,1,0,0,1,0,0,1]\n",
        "P=[1,0,1,1,0,1,0,1,0,0]\n",
        "\n",
        "matrix=confusion_matrix(A,P)\n",
        "print('Confusion Matrix \\n',matrix)\n",
        "\n",
        "Labels_Classification=classification_report(A,P)\n",
        "print(\"\\nReport\\n\",Labels_Classification)"
      ]
    }
  ]
}