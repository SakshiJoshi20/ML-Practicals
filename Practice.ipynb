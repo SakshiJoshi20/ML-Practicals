{
  "nbformat": 4,
  "nbformat_minor": 0,
  "metadata": {
    "colab": {
      "provenance": []
    },
    "kernelspec": {
      "name": "python3",
      "display_name": "Python 3"
    },
    "language_info": {
      "name": "python"
    }
  },
  "cells": [
    {
      "cell_type": "code",
      "execution_count": 6,
      "metadata": {
        "colab": {
          "base_uri": "https://localhost:8080/"
        },
        "id": "x6duFUC5YSZP",
        "outputId": "fb4f651c-9a06-4215-9e3b-4c4c251de3f8"
      },
      "outputs": [
        {
          "output_type": "stream",
          "name": "stdout",
          "text": [
            "<class 'pandas.core.frame.DataFrame'>\n",
            "RangeIndex: 150 entries, 0 to 149\n",
            "Data columns (total 6 columns):\n",
            " #   Column         Non-Null Count  Dtype  \n",
            "---  ------         --------------  -----  \n",
            " 0   Id             150 non-null    int64  \n",
            " 1   SepalLengthCm  150 non-null    float64\n",
            " 2   SepalWidthCm   150 non-null    float64\n",
            " 3   PetalLengthCm  150 non-null    float64\n",
            " 4   PetalWidthCm   150 non-null    float64\n",
            " 5   Species        150 non-null    object \n",
            "dtypes: float64(4), int64(1), object(1)\n",
            "memory usage: 7.2+ KB\n"
          ]
        }
      ],
      "source": [
        "import pandas as pd\n",
        "import numpy as np\n",
        "import matplotlib.pyplot as plt\n",
        "\n",
        "df=pd.read_csv(\"/content/drive/MyDrive/Data/Iris.csv\")\n",
        "df.info()"
      ]
    },
    {
      "cell_type": "code",
      "source": [
        "from google.colab import drive\n",
        "drive.mount('/content/drive')"
      ],
      "metadata": {
        "colab": {
          "base_uri": "https://localhost:8080/"
        },
        "id": "HLvqChEXYtyl",
        "outputId": "e3bc1aaf-2a2f-4875-a852-7cad47b3992e"
      },
      "execution_count": 5,
      "outputs": [
        {
          "output_type": "stream",
          "name": "stdout",
          "text": [
            "Mounted at /content/drive\n"
          ]
        }
      ]
    },
    {
      "cell_type": "code",
      "source": [
        "df.head()"
      ],
      "metadata": {
        "colab": {
          "base_uri": "https://localhost:8080/",
          "height": 206
        },
        "id": "GK3mtzw2ZIs_",
        "outputId": "30bd5e9e-ba80-4cc8-d179-06d01958139c"
      },
      "execution_count": 7,
      "outputs": [
        {
          "output_type": "execute_result",
          "data": {
            "text/plain": [
              "   Id  SepalLengthCm  SepalWidthCm  PetalLengthCm  PetalWidthCm      Species\n",
              "0   1            5.1           3.5            1.4           0.2  Iris-setosa\n",
              "1   2            4.9           3.0            1.4           0.2  Iris-setosa\n",
              "2   3            4.7           3.2            1.3           0.2  Iris-setosa\n",
              "3   4            4.6           3.1            1.5           0.2  Iris-setosa\n",
              "4   5            5.0           3.6            1.4           0.2  Iris-setosa"
            ],
            "text/html": [
              "\n",
              "  <div id=\"df-08f9120c-95d1-4fd8-9207-858dabf38fd5\">\n",
              "    <div class=\"colab-df-container\">\n",
              "      <div>\n",
              "<style scoped>\n",
              "    .dataframe tbody tr th:only-of-type {\n",
              "        vertical-align: middle;\n",
              "    }\n",
              "\n",
              "    .dataframe tbody tr th {\n",
              "        vertical-align: top;\n",
              "    }\n",
              "\n",
              "    .dataframe thead th {\n",
              "        text-align: right;\n",
              "    }\n",
              "</style>\n",
              "<table border=\"1\" class=\"dataframe\">\n",
              "  <thead>\n",
              "    <tr style=\"text-align: right;\">\n",
              "      <th></th>\n",
              "      <th>Id</th>\n",
              "      <th>SepalLengthCm</th>\n",
              "      <th>SepalWidthCm</th>\n",
              "      <th>PetalLengthCm</th>\n",
              "      <th>PetalWidthCm</th>\n",
              "      <th>Species</th>\n",
              "    </tr>\n",
              "  </thead>\n",
              "  <tbody>\n",
              "    <tr>\n",
              "      <th>0</th>\n",
              "      <td>1</td>\n",
              "      <td>5.1</td>\n",
              "      <td>3.5</td>\n",
              "      <td>1.4</td>\n",
              "      <td>0.2</td>\n",
              "      <td>Iris-setosa</td>\n",
              "    </tr>\n",
              "    <tr>\n",
              "      <th>1</th>\n",
              "      <td>2</td>\n",
              "      <td>4.9</td>\n",
              "      <td>3.0</td>\n",
              "      <td>1.4</td>\n",
              "      <td>0.2</td>\n",
              "      <td>Iris-setosa</td>\n",
              "    </tr>\n",
              "    <tr>\n",
              "      <th>2</th>\n",
              "      <td>3</td>\n",
              "      <td>4.7</td>\n",
              "      <td>3.2</td>\n",
              "      <td>1.3</td>\n",
              "      <td>0.2</td>\n",
              "      <td>Iris-setosa</td>\n",
              "    </tr>\n",
              "    <tr>\n",
              "      <th>3</th>\n",
              "      <td>4</td>\n",
              "      <td>4.6</td>\n",
              "      <td>3.1</td>\n",
              "      <td>1.5</td>\n",
              "      <td>0.2</td>\n",
              "      <td>Iris-setosa</td>\n",
              "    </tr>\n",
              "    <tr>\n",
              "      <th>4</th>\n",
              "      <td>5</td>\n",
              "      <td>5.0</td>\n",
              "      <td>3.6</td>\n",
              "      <td>1.4</td>\n",
              "      <td>0.2</td>\n",
              "      <td>Iris-setosa</td>\n",
              "    </tr>\n",
              "  </tbody>\n",
              "</table>\n",
              "</div>\n",
              "      <button class=\"colab-df-convert\" onclick=\"convertToInteractive('df-08f9120c-95d1-4fd8-9207-858dabf38fd5')\"\n",
              "              title=\"Convert this dataframe to an interactive table.\"\n",
              "              style=\"display:none;\">\n",
              "        \n",
              "  <svg xmlns=\"http://www.w3.org/2000/svg\" height=\"24px\"viewBox=\"0 0 24 24\"\n",
              "       width=\"24px\">\n",
              "    <path d=\"M0 0h24v24H0V0z\" fill=\"none\"/>\n",
              "    <path d=\"M18.56 5.44l.94 2.06.94-2.06 2.06-.94-2.06-.94-.94-2.06-.94 2.06-2.06.94zm-11 1L8.5 8.5l.94-2.06 2.06-.94-2.06-.94L8.5 2.5l-.94 2.06-2.06.94zm10 10l.94 2.06.94-2.06 2.06-.94-2.06-.94-.94-2.06-.94 2.06-2.06.94z\"/><path d=\"M17.41 7.96l-1.37-1.37c-.4-.4-.92-.59-1.43-.59-.52 0-1.04.2-1.43.59L10.3 9.45l-7.72 7.72c-.78.78-.78 2.05 0 2.83L4 21.41c.39.39.9.59 1.41.59.51 0 1.02-.2 1.41-.59l7.78-7.78 2.81-2.81c.8-.78.8-2.07 0-2.86zM5.41 20L4 18.59l7.72-7.72 1.47 1.35L5.41 20z\"/>\n",
              "  </svg>\n",
              "      </button>\n",
              "      \n",
              "  <style>\n",
              "    .colab-df-container {\n",
              "      display:flex;\n",
              "      flex-wrap:wrap;\n",
              "      gap: 12px;\n",
              "    }\n",
              "\n",
              "    .colab-df-convert {\n",
              "      background-color: #E8F0FE;\n",
              "      border: none;\n",
              "      border-radius: 50%;\n",
              "      cursor: pointer;\n",
              "      display: none;\n",
              "      fill: #1967D2;\n",
              "      height: 32px;\n",
              "      padding: 0 0 0 0;\n",
              "      width: 32px;\n",
              "    }\n",
              "\n",
              "    .colab-df-convert:hover {\n",
              "      background-color: #E2EBFA;\n",
              "      box-shadow: 0px 1px 2px rgba(60, 64, 67, 0.3), 0px 1px 3px 1px rgba(60, 64, 67, 0.15);\n",
              "      fill: #174EA6;\n",
              "    }\n",
              "\n",
              "    [theme=dark] .colab-df-convert {\n",
              "      background-color: #3B4455;\n",
              "      fill: #D2E3FC;\n",
              "    }\n",
              "\n",
              "    [theme=dark] .colab-df-convert:hover {\n",
              "      background-color: #434B5C;\n",
              "      box-shadow: 0px 1px 3px 1px rgba(0, 0, 0, 0.15);\n",
              "      filter: drop-shadow(0px 1px 2px rgba(0, 0, 0, 0.3));\n",
              "      fill: #FFFFFF;\n",
              "    }\n",
              "  </style>\n",
              "\n",
              "      <script>\n",
              "        const buttonEl =\n",
              "          document.querySelector('#df-08f9120c-95d1-4fd8-9207-858dabf38fd5 button.colab-df-convert');\n",
              "        buttonEl.style.display =\n",
              "          google.colab.kernel.accessAllowed ? 'block' : 'none';\n",
              "\n",
              "        async function convertToInteractive(key) {\n",
              "          const element = document.querySelector('#df-08f9120c-95d1-4fd8-9207-858dabf38fd5');\n",
              "          const dataTable =\n",
              "            await google.colab.kernel.invokeFunction('convertToInteractive',\n",
              "                                                     [key], {});\n",
              "          if (!dataTable) return;\n",
              "\n",
              "          const docLinkHtml = 'Like what you see? Visit the ' +\n",
              "            '<a target=\"_blank\" href=https://colab.research.google.com/notebooks/data_table.ipynb>data table notebook</a>'\n",
              "            + ' to learn more about interactive tables.';\n",
              "          element.innerHTML = '';\n",
              "          dataTable['output_type'] = 'display_data';\n",
              "          await google.colab.output.renderOutput(dataTable, element);\n",
              "          const docLink = document.createElement('div');\n",
              "          docLink.innerHTML = docLinkHtml;\n",
              "          element.appendChild(docLink);\n",
              "        }\n",
              "      </script>\n",
              "    </div>\n",
              "  </div>\n",
              "  "
            ]
          },
          "metadata": {},
          "execution_count": 7
        }
      ]
    },
    {
      "cell_type": "code",
      "source": [
        "df.describe()"
      ],
      "metadata": {
        "colab": {
          "base_uri": "https://localhost:8080/",
          "height": 300
        },
        "id": "2EBNLR-oZRC8",
        "outputId": "07091532-aee3-4a4d-f17f-54274c75bf5e"
      },
      "execution_count": 8,
      "outputs": [
        {
          "output_type": "execute_result",
          "data": {
            "text/plain": [
              "               Id  SepalLengthCm  SepalWidthCm  PetalLengthCm  PetalWidthCm\n",
              "count  150.000000     150.000000    150.000000     150.000000    150.000000\n",
              "mean    75.500000       5.843333      3.054000       3.758667      1.198667\n",
              "std     43.445368       0.828066      0.433594       1.764420      0.763161\n",
              "min      1.000000       4.300000      2.000000       1.000000      0.100000\n",
              "25%     38.250000       5.100000      2.800000       1.600000      0.300000\n",
              "50%     75.500000       5.800000      3.000000       4.350000      1.300000\n",
              "75%    112.750000       6.400000      3.300000       5.100000      1.800000\n",
              "max    150.000000       7.900000      4.400000       6.900000      2.500000"
            ],
            "text/html": [
              "\n",
              "  <div id=\"df-541f2f18-2903-4f88-987e-0a834e3aa70a\">\n",
              "    <div class=\"colab-df-container\">\n",
              "      <div>\n",
              "<style scoped>\n",
              "    .dataframe tbody tr th:only-of-type {\n",
              "        vertical-align: middle;\n",
              "    }\n",
              "\n",
              "    .dataframe tbody tr th {\n",
              "        vertical-align: top;\n",
              "    }\n",
              "\n",
              "    .dataframe thead th {\n",
              "        text-align: right;\n",
              "    }\n",
              "</style>\n",
              "<table border=\"1\" class=\"dataframe\">\n",
              "  <thead>\n",
              "    <tr style=\"text-align: right;\">\n",
              "      <th></th>\n",
              "      <th>Id</th>\n",
              "      <th>SepalLengthCm</th>\n",
              "      <th>SepalWidthCm</th>\n",
              "      <th>PetalLengthCm</th>\n",
              "      <th>PetalWidthCm</th>\n",
              "    </tr>\n",
              "  </thead>\n",
              "  <tbody>\n",
              "    <tr>\n",
              "      <th>count</th>\n",
              "      <td>150.000000</td>\n",
              "      <td>150.000000</td>\n",
              "      <td>150.000000</td>\n",
              "      <td>150.000000</td>\n",
              "      <td>150.000000</td>\n",
              "    </tr>\n",
              "    <tr>\n",
              "      <th>mean</th>\n",
              "      <td>75.500000</td>\n",
              "      <td>5.843333</td>\n",
              "      <td>3.054000</td>\n",
              "      <td>3.758667</td>\n",
              "      <td>1.198667</td>\n",
              "    </tr>\n",
              "    <tr>\n",
              "      <th>std</th>\n",
              "      <td>43.445368</td>\n",
              "      <td>0.828066</td>\n",
              "      <td>0.433594</td>\n",
              "      <td>1.764420</td>\n",
              "      <td>0.763161</td>\n",
              "    </tr>\n",
              "    <tr>\n",
              "      <th>min</th>\n",
              "      <td>1.000000</td>\n",
              "      <td>4.300000</td>\n",
              "      <td>2.000000</td>\n",
              "      <td>1.000000</td>\n",
              "      <td>0.100000</td>\n",
              "    </tr>\n",
              "    <tr>\n",
              "      <th>25%</th>\n",
              "      <td>38.250000</td>\n",
              "      <td>5.100000</td>\n",
              "      <td>2.800000</td>\n",
              "      <td>1.600000</td>\n",
              "      <td>0.300000</td>\n",
              "    </tr>\n",
              "    <tr>\n",
              "      <th>50%</th>\n",
              "      <td>75.500000</td>\n",
              "      <td>5.800000</td>\n",
              "      <td>3.000000</td>\n",
              "      <td>4.350000</td>\n",
              "      <td>1.300000</td>\n",
              "    </tr>\n",
              "    <tr>\n",
              "      <th>75%</th>\n",
              "      <td>112.750000</td>\n",
              "      <td>6.400000</td>\n",
              "      <td>3.300000</td>\n",
              "      <td>5.100000</td>\n",
              "      <td>1.800000</td>\n",
              "    </tr>\n",
              "    <tr>\n",
              "      <th>max</th>\n",
              "      <td>150.000000</td>\n",
              "      <td>7.900000</td>\n",
              "      <td>4.400000</td>\n",
              "      <td>6.900000</td>\n",
              "      <td>2.500000</td>\n",
              "    </tr>\n",
              "  </tbody>\n",
              "</table>\n",
              "</div>\n",
              "      <button class=\"colab-df-convert\" onclick=\"convertToInteractive('df-541f2f18-2903-4f88-987e-0a834e3aa70a')\"\n",
              "              title=\"Convert this dataframe to an interactive table.\"\n",
              "              style=\"display:none;\">\n",
              "        \n",
              "  <svg xmlns=\"http://www.w3.org/2000/svg\" height=\"24px\"viewBox=\"0 0 24 24\"\n",
              "       width=\"24px\">\n",
              "    <path d=\"M0 0h24v24H0V0z\" fill=\"none\"/>\n",
              "    <path d=\"M18.56 5.44l.94 2.06.94-2.06 2.06-.94-2.06-.94-.94-2.06-.94 2.06-2.06.94zm-11 1L8.5 8.5l.94-2.06 2.06-.94-2.06-.94L8.5 2.5l-.94 2.06-2.06.94zm10 10l.94 2.06.94-2.06 2.06-.94-2.06-.94-.94-2.06-.94 2.06-2.06.94z\"/><path d=\"M17.41 7.96l-1.37-1.37c-.4-.4-.92-.59-1.43-.59-.52 0-1.04.2-1.43.59L10.3 9.45l-7.72 7.72c-.78.78-.78 2.05 0 2.83L4 21.41c.39.39.9.59 1.41.59.51 0 1.02-.2 1.41-.59l7.78-7.78 2.81-2.81c.8-.78.8-2.07 0-2.86zM5.41 20L4 18.59l7.72-7.72 1.47 1.35L5.41 20z\"/>\n",
              "  </svg>\n",
              "      </button>\n",
              "      \n",
              "  <style>\n",
              "    .colab-df-container {\n",
              "      display:flex;\n",
              "      flex-wrap:wrap;\n",
              "      gap: 12px;\n",
              "    }\n",
              "\n",
              "    .colab-df-convert {\n",
              "      background-color: #E8F0FE;\n",
              "      border: none;\n",
              "      border-radius: 50%;\n",
              "      cursor: pointer;\n",
              "      display: none;\n",
              "      fill: #1967D2;\n",
              "      height: 32px;\n",
              "      padding: 0 0 0 0;\n",
              "      width: 32px;\n",
              "    }\n",
              "\n",
              "    .colab-df-convert:hover {\n",
              "      background-color: #E2EBFA;\n",
              "      box-shadow: 0px 1px 2px rgba(60, 64, 67, 0.3), 0px 1px 3px 1px rgba(60, 64, 67, 0.15);\n",
              "      fill: #174EA6;\n",
              "    }\n",
              "\n",
              "    [theme=dark] .colab-df-convert {\n",
              "      background-color: #3B4455;\n",
              "      fill: #D2E3FC;\n",
              "    }\n",
              "\n",
              "    [theme=dark] .colab-df-convert:hover {\n",
              "      background-color: #434B5C;\n",
              "      box-shadow: 0px 1px 3px 1px rgba(0, 0, 0, 0.15);\n",
              "      filter: drop-shadow(0px 1px 2px rgba(0, 0, 0, 0.3));\n",
              "      fill: #FFFFFF;\n",
              "    }\n",
              "  </style>\n",
              "\n",
              "      <script>\n",
              "        const buttonEl =\n",
              "          document.querySelector('#df-541f2f18-2903-4f88-987e-0a834e3aa70a button.colab-df-convert');\n",
              "        buttonEl.style.display =\n",
              "          google.colab.kernel.accessAllowed ? 'block' : 'none';\n",
              "\n",
              "        async function convertToInteractive(key) {\n",
              "          const element = document.querySelector('#df-541f2f18-2903-4f88-987e-0a834e3aa70a');\n",
              "          const dataTable =\n",
              "            await google.colab.kernel.invokeFunction('convertToInteractive',\n",
              "                                                     [key], {});\n",
              "          if (!dataTable) return;\n",
              "\n",
              "          const docLinkHtml = 'Like what you see? Visit the ' +\n",
              "            '<a target=\"_blank\" href=https://colab.research.google.com/notebooks/data_table.ipynb>data table notebook</a>'\n",
              "            + ' to learn more about interactive tables.';\n",
              "          element.innerHTML = '';\n",
              "          dataTable['output_type'] = 'display_data';\n",
              "          await google.colab.output.renderOutput(dataTable, element);\n",
              "          const docLink = document.createElement('div');\n",
              "          docLink.innerHTML = docLinkHtml;\n",
              "          element.appendChild(docLink);\n",
              "        }\n",
              "      </script>\n",
              "    </div>\n",
              "  </div>\n",
              "  "
            ]
          },
          "metadata": {},
          "execution_count": 8
        }
      ]
    },
    {
      "cell_type": "code",
      "source": [
        "df['Species'].value_counts()"
      ],
      "metadata": {
        "colab": {
          "base_uri": "https://localhost:8080/"
        },
        "id": "csbc1oKZf9tP",
        "outputId": "1de1f12b-b7b9-4529-d5f3-3045586a3484"
      },
      "execution_count": 9,
      "outputs": [
        {
          "output_type": "execute_result",
          "data": {
            "text/plain": [
              "Iris-setosa        50\n",
              "Iris-versicolor    50\n",
              "Iris-virginica     50\n",
              "Name: Species, dtype: int64"
            ]
          },
          "metadata": {},
          "execution_count": 9
        }
      ]
    },
    {
      "cell_type": "code",
      "source": [
        "species=['Iris-setosa','Iris-versicolor','Iris-virginica']\n",
        "for i in range(3):\n",
        "  x=df[df['Species']==species[i]]\n",
        "  plt.scatter(x['SepalLengthCm'],x['PetalLengthCm'],label=species[i])\n",
        "\n",
        "plt.xlabel(\"Sepal Length cm\")\n",
        "plt.ylabel(\"Petal Length cm\")\n",
        "plt.legend()\n",
        "plt.title(\"My Scatter\")\n",
        "plt.grid()"
      ],
      "metadata": {
        "colab": {
          "base_uri": "https://localhost:8080/",
          "height": 295
        },
        "id": "h7WyZqmqgEgX",
        "outputId": "4e9e43ed-9de9-4044-abcf-c325d1254a85"
      },
      "execution_count": 10,
      "outputs": [
        {
          "output_type": "display_data",
          "data": {
            "text/plain": [
              "<Figure size 432x288 with 1 Axes>"
            ],
            "image/png": "[encoded data removed]"
          },
          "metadata": {
            "needs_background": "light"
          }
        }
      ]
    },
    {
      "cell_type": "code",
      "source": [
        "df['SepalLengthCm'].hist()"
      ],
      "metadata": {
        "colab": {
          "base_uri": "https://localhost:8080/",
          "height": 282
        },
        "id": "rVVROz6mhQYK",
        "outputId": "532a8bd6-02ac-488c-cfb8-70d41a02eb6e"
      },
      "execution_count": 11,
      "outputs": [
        {
          "output_type": "execute_result",
          "data": {
            "text/plain": [
              "<matplotlib.axes._subplots.AxesSubplot at 0x7f9f99994910>"
            ]
          },
          "metadata": {},
          "execution_count": 11
        },
        {
          "output_type": "display_data",
          "data": {
            "text/plain": [
              "<Figure size 432x288 with 1 Axes>"
            ],
            "image/png": "[encoded data removed]"
          },
          "metadata": {
            "needs_background": "light"
          }
        }
      ]
    },
    {
      "cell_type": "code",
      "source": [
        "from sklearn.metrics import confusion_matrix\n",
        "from sklearn.metrics import classification_report\n",
        "\n",
        "a=[1,0,0,1,0,0,1,0,0,1]\n",
        "p=[1,0,1,1,0,1,0,1,0,0]\n",
        "\n",
        "print('Confusion matrix :\\n')\n",
        "print(confusion_matrix(a,p))\n",
        "\n",
        "print('Classification Report :\\n')\n",
        "print(classification_report(a,p))"
      ],
      "metadata": {
        "colab": {
          "base_uri": "https://localhost:8080/"
        },
        "id": "XCgPSADcht_2",
        "outputId": "bd4d07b0-0a42-4262-c2e3-29c2521d6139"
      },
      "execution_count": 12,
      "outputs": [
        {
          "output_type": "stream",
          "name": "stdout",
          "text": [
            "Confusion matrix :\n",
            "\n",
            "[[3 3]\n",
            " [2 2]]\n",
            "Classification Report :\n",
            "\n",
            "              precision    recall  f1-score   support\n",
            "\n",
            "           0       0.60      0.50      0.55         6\n",
            "           1       0.40      0.50      0.44         4\n",
            "\n",
            "    accuracy                           0.50        10\n",
            "   macro avg       0.50      0.50      0.49        10\n",
            "weighted avg       0.52      0.50      0.51        10\n",
            "\n"
          ]
        }
      ]
    },
    {
      "cell_type": "code",
      "source": [
        "# KNN using self made DB\n",
        "X=[2,34,52,5,4,8,35,73,5,4]\n",
        "Y=[21,19,24,17,16,25,24,21,21,22]\n",
        "c=[0, 0, 0, 1, 1, 0, 0, 1, 1, 0]\n",
        "plt.scatter(X,Y,c=c)\n",
        "\n",
        "from sklearn.neighbors import KNeighborsClassifier\n",
        "data=list(zip(X,Y))\n",
        "knn=KNeighborsClassifier(n_neighbors=3)\n",
        "knn.fit(data,c)\n",
        "\n",
        "X_test = [2,3,5,23,4,1,23,56,5,6]\n",
        "Y_test = [21,5,3,23,6,3,5,8,9,46]\n",
        "test_data=list(zip(X_test,Y_test))\n",
        "prediction=knn.predict(test_data)\n",
        "print(prediction)\n",
        "\n",
        "plt.scatter(X_test,Y_test,c=prediction)"
      ],
      "metadata": {
        "id": "GIHuvWi-lBu-",
        "colab": {
          "base_uri": "https://localhost:8080/",
          "height": 300
        },
        "outputId": "9269b688-d0f7-4b0d-ab99-db7e944fe01e"
      },
      "execution_count": 13,
      "outputs": [
        {
          "output_type": "stream",
          "name": "stdout",
          "text": [
            "[0 1 1 0 1 1 1 0 1 0]\n"
          ]
        },
        {
          "output_type": "execute_result",
          "data": {
            "text/plain": [
              "<matplotlib.collections.PathCollection at 0x7f9fa9456bb0>"
            ]
          },
          "metadata": {},
          "execution_count": 13
        },
        {
          "output_type": "display_data",
          "data": {
            "text/plain": [
              "<Figure size 432x288 with 1 Axes>"
            ],
            "image/png": "[encoded data removed]"
          },
          "metadata": {
            "needs_background": "light"
          }
        }
      ]
    },
    {
      "cell_type": "code",
      "source": [
        "#GaussianNB on selfmade dataset\n",
        "X=[2,34,52,5,4,8,35,73,5,4]\n",
        "Y=[21,19,24,17,16,25,24,21,21,22]\n",
        "c=[0, 0, 0, 1, 1, 0, 0, 1, 1, 0]\n",
        "plt.scatter(X,Y,c=c)\n",
        "\n",
        "from sklearn.naive_bayes import GaussianNB\n",
        "data=list(zip(X,Y))\n",
        "gnb=GaussianNB()\n",
        "gnb.fit(data,c)\n",
        "\n",
        "X_test = [2,3,5,23,4,1,23,56,5,6]\n",
        "Y_test = [21,5,3,23,6,3,5,8,9,46]\n",
        "test_data=list(zip(X_test,Y_test))\n",
        "prediction=gnb.predict(test_data)\n",
        "print(prediction)\n",
        "\n",
        "plt.scatter(X_test,Y_test,c=prediction)"
      ],
      "metadata": {
        "colab": {
          "base_uri": "https://localhost:8080/",
          "height": 300
        },
        "id": "7sKYxU3Ol3En",
        "outputId": "8c822004-405e-431e-a1d7-9a23e2e19281"
      },
      "execution_count": 14,
      "outputs": [
        {
          "output_type": "stream",
          "name": "stdout",
          "text": [
            "[0 1 1 0 1 1 1 1 1 0]\n"
          ]
        },
        {
          "output_type": "execute_result",
          "data": {
            "text/plain": [
              "<matplotlib.collections.PathCollection at 0x7f9f999ba4c0>"
            ]
          },
          "metadata": {},
          "execution_count": 14
        },
        {
          "output_type": "display_data",
          "data": {
            "text/plain": [
              "<Figure size 432x288 with 1 Axes>"
            ],
            "image/png": "[encoded data removed]"
          },
          "metadata": {
            "needs_background": "light"
          }
        }
      ]
    },
    {
      "cell_type": "code",
      "source": [
        "df.shape"
      ],
      "metadata": {
        "colab": {
          "base_uri": "https://localhost:8080/"
        },
        "id": "le4epBgsZtL3",
        "outputId": "8138e46a-53a2-4229-aefa-941babff9139"
      },
      "execution_count": 16,
      "outputs": [
        {
          "output_type": "execute_result",
          "data": {
            "text/plain": [
              "(150, 6)"
            ]
          },
          "metadata": {},
          "execution_count": 16
        }
      ]
    },
    {
      "cell_type": "code",
      "source": [
        "# KNN using DB\n",
        "import pandas as pd\n",
        "import numpy as np\n",
        "import matplotlib.pyplot as plt\n",
        "\n",
        "df=pd.read_csv(\"/content/drive/MyDrive/Data/Iris.csv\")\n",
        "df.info()\n",
        "\n",
        "from google.colab import drive\n",
        "drive.mount('/content/drive')\n",
        "\n",
        "df.head()\n",
        "\n",
        "df.describe()\n",
        "\n",
        "from sklearn.model_selection import train_test_split\n",
        "# petal length---x->A, species---y->B\n",
        "A=df.iloc[:,:5]\n",
        "A.head()\n",
        "\n",
        "B=df.iloc[:,-1] #-1 for considering last column only\n",
        "B.head()\n",
        "\n",
        "from sklearn import preprocessing\n",
        "A=preprocessing.StandardScaler().fit_transform(A)\n",
        "A[0:4]\n",
        "# preprocessing means making all units same \n",
        "\n",
        "from sklearn.model_selection import train_test_split\n",
        "A_train, A_test, B_train, B_test=train_test_split(A,B,test_size=0.2,random_state=1)\n",
        "# test size---30% data in test set, \n",
        "# random state---har baar run karne pe ek hi value milegi\n",
        "print(B_test.shape)\n",
        "\n",
        "from sklearn.neighbors import KNeighborsClassifier\n",
        "knn=KNeighborsClassifier(n_neighbors=3)\n",
        "knn.fit(A_train,B_train)\n",
        "predict1=knn.predict(A_test)\n",
        "\n",
        "from sklearn.metrics import accuracy_score\n",
        "from sklearn.metrics import confusion_matrix\n",
        "acc=accuracy_score(B_test,predict1)\n",
        "print(\"Accuracy Score : \")\n",
        "print(acc)\n",
        "print(\"Confusion Matrix : \")\n",
        "print(confusion_matrix(B_test.values,predict1))"
      ],
      "metadata": {
        "colab": {
          "base_uri": "https://localhost:8080/"
        },
        "id": "1RG85XRSX_f8",
        "outputId": "bdf6b255-fbe1-4f1b-fab9-e8f98b5d5647"
      },
      "execution_count": 18,
      "outputs": [
        {
          "output_type": "stream",
          "name": "stdout",
          "text": [
            "<class 'pandas.core.frame.DataFrame'>\n",
            "RangeIndex: 150 entries, 0 to 149\n",
            "Data columns (total 6 columns):\n",
            " #   Column         Non-Null Count  Dtype  \n",
            "---  ------         --------------  -----  \n",
            " 0   Id             150 non-null    int64  \n",
            " 1   SepalLengthCm  150 non-null    float64\n",
            " 2   SepalWidthCm   150 non-null    float64\n",
            " 3   PetalLengthCm  150 non-null    float64\n",
            " 4   PetalWidthCm   150 non-null    float64\n",
            " 5   Species        150 non-null    object \n",
            "dtypes: float64(4), int64(1), object(1)\n",
            "memory usage: 7.2+ KB\n",
            "Drive already mounted at /content/drive; to attempt to forcibly remount, call drive.mount(\"/content/drive\", force_remount=True).\n",
            "(30,)\n",
            "Accuracy Score : \n",
            "1.0\n",
            "Confusion Matrix : \n",
            "[[11  0  0]\n",
            " [ 0 13  0]\n",
            " [ 0  0  6]]\n"
          ]
        }
      ]
    },
    {
      "cell_type": "code",
      "source": [
        "# GaussianNB using DB\n",
        "import pandas as pd\n",
        "import numpy as np\n",
        "import matplotlib.pyplot as plt\n",
        "\n",
        "df=pd.read_csv(\"/content/drive/MyDrive/Data/Iris.csv\")\n",
        "df.info()\n",
        "\n",
        "from google.colab import drive\n",
        "drive.mount('/content/drive')\n",
        "\n",
        "df.head()\n",
        "\n",
        "df.describe()\n",
        "\n",
        "from sklearn.model_selection import train_test_split\n",
        "# petal length---x->A, species---y->B\n",
        "A=df.iloc[:,:5]\n",
        "A.head()\n",
        "\n",
        "B=df.iloc[:,-1] #-1 for considering last column only\n",
        "B.head()\n",
        "\n",
        "from sklearn import preprocessing\n",
        "A=preprocessing.StandardScaler().fit_transform(A)\n",
        "A[0:4]\n",
        "# preprocessing means making all units same \n",
        "\n",
        "from sklearn.model_selection import train_test_split\n",
        "A_train, A_test, B_train, B_test=train_test_split(A,B,test_size=0.2,random_state=1)\n",
        "# test size---30% data in test set, \n",
        "# random state---har baar run karne pe ek hi value milegi\n",
        "print(B_test.shape)\n",
        "\n",
        "from sklearn.naive_bayes import GaussianNB\n",
        "gnb=GaussianNB()\n",
        "gnb.fit(A_train,B_train)\n",
        "predict2=gnb.predict(A_test)\n",
        "\n",
        "from sklearn.metrics import accuracy_score\n",
        "from sklearn.metrics import confusion_matrix\n",
        "print(\"Accuracy score : \")\n",
        "print(accuracy_score(B_test,predict2))\n",
        "print(\"Confusion Matrix : \")\n",
        "print(confusion_matrix(B_test,predict2))"
      ],
      "metadata": {
        "id": "YQLhaVpYJ9wC",
        "colab": {
          "base_uri": "https://localhost:8080/"
        },
        "outputId": "5c53edee-998a-4563-96ba-7920755dfab6"
      },
      "execution_count": 19,
      "outputs": [
        {
          "output_type": "stream",
          "name": "stdout",
          "text": [
            "<class 'pandas.core.frame.DataFrame'>\n",
            "RangeIndex: 150 entries, 0 to 149\n",
            "Data columns (total 6 columns):\n",
            " #   Column         Non-Null Count  Dtype  \n",
            "---  ------         --------------  -----  \n",
            " 0   Id             150 non-null    int64  \n",
            " 1   SepalLengthCm  150 non-null    float64\n",
            " 2   SepalWidthCm   150 non-null    float64\n",
            " 3   PetalLengthCm  150 non-null    float64\n",
            " 4   PetalWidthCm   150 non-null    float64\n",
            " 5   Species        150 non-null    object \n",
            "dtypes: float64(4), int64(1), object(1)\n",
            "memory usage: 7.2+ KB\n",
            "Drive already mounted at /content/drive; to attempt to forcibly remount, call drive.mount(\"/content/drive\", force_remount=True).\n",
            "(30,)\n",
            "Accuracy score : \n",
            "1.0\n",
            "Confusion Matrix : \n",
            "[[11  0  0]\n",
            " [ 0 13  0]\n",
            " [ 0  0  6]]\n"
          ]
        }
      ]
    },
    {
      "cell_type": "code",
      "source": [
        "# Linear regression\n",
        "from sklearn import linear_model\n",
        "import matplotlib.pyplot as plt\n",
        "import numpy as np\n",
        "import random\n",
        "def f(x):\n",
        "    res = x* 25 + 5\n",
        "    error = res * random.uniform(-2, 4) #(-0.15,0.15)\n",
        "    # you can try chaning the error to analyse how it affects output\n",
        "    return res + error\n",
        "values = []\n",
        "for i in range(0, 100):\n",
        "    x = random.uniform(1, 1000)\n",
        "    y = f(x)\n",
        "    values.append((x, y))\n",
        "    regr = linear_model.LinearRegression()\n",
        "x, y = zip(*values)\n",
        "#print(x)\n",
        "#print(y)\n",
        "max_x = max(x)\n",
        "min_x = min(x)\n",
        "train_data_X = list(map(lambda x: [x], list(x[:-20])))\n",
        "train_data_Y = list(y[:-20])\n",
        "test_data_X = list(map(lambda x: [x], list(x[-20:])))\n",
        "test_data_Y = list(y[-20:])\n",
        "regr.fit(train_data_X, train_data_Y)\n",
        "m = regr.coef_[0]\n",
        "b = regr.intercept_\n",
        "print(' y = {0} * x + {1}'.format(m, b))\n",
        "plt.scatter(x, y, color='black')  # you can use test_data_X and test_data_Y instead.\n",
        "plt.plot([min_x, max_x], [b, m*max_x + b], 'r')\n",
        "plt.title('Linear Regression', fontsize=16)\n",
        "plt.xlabel('x', fontsize=13)\n",
        "plt.ylabel('y', fontsize=13)\n",
        "print(\"Mean squared error: %.2f\" % np.mean((regr.predict(test_data_X) - test_data_Y) ** 2))\n",
        "print('Variance score: %.2f' % regr.score(test_data_X, test_data_Y))\n",
        "     "
      ],
      "metadata": {
        "colab": {
          "base_uri": "https://localhost:8080/",
          "height": 352
        },
        "id": "QXLG6tatlbSG",
        "outputId": "fed272e9-adca-427d-a5d3-2c077b839d64"
      },
      "execution_count": 20,
      "outputs": [
        {
          "output_type": "stream",
          "name": "stdout",
          "text": [
            " y = 54.24892138772061 * x + -2242.5538422460377\n",
            "Mean squared error: 709776908.03\n",
            "Variance score: 0.20\n"
          ]
        },
        {
          "output_type": "display_data",
          "data": {
            "text/plain": [
              "<Figure size 432x288 with 1 Axes>"
            ],
            "image/png": "[encoded data removed]"
          },
          "metadata": {
            "needs_background": "light"
          }
        }
      ]
    },
    {
      "cell_type": "code",
      "source": [
        "#Agglomerative with dendograms\n",
        "import pandas as pd\n",
        "data = pd.read_csv(\"/content/drive/MyDrive/Data/dataR2.csv\")\n",
        "data.head()\n",
        "\n",
        "#normalizing data\n",
        "from sklearn.preprocessing import normalize\n",
        "norm_data = normalize(data)\n",
        "norm_data = pd.DataFrame(norm_data, columns=data.columns)\n",
        "norm_data.head()\n",
        "\n",
        "import scipy.cluster.hierarchy as shc\n",
        "import matplotlib.pyplot as plt\n",
        "plt.title(\"Dendograms of Data\")\n",
        "dendrogram = shc.dendrogram(shc.linkage(norm_data, method='ward'))\n",
        "\n",
        "from sklearn.cluster import AgglomerativeClustering\n",
        "clusters = AgglomerativeClustering(n_clusters=2,affinity='euclidean',linkage='ward')\n",
        "clusters.fit_predict(norm_data)\n",
        "\n",
        "plt.figure(figsize=(8,6))\n",
        "plt.scatter(norm_data['Glucose'],norm_data['Leptin'],c=clusters.labels_)\n",
        "\n",
        "from sklearn.cluster import AgglomerativeClustering\n",
        "clusters = AgglomerativeClustering(n_clusters=3,affinity='euclidean',linkage='ward')\n",
        "clusters.fit_predict(norm_data)\n",
        "\n",
        "plt.figure(figsize=(8,6))\n",
        "plt.scatter(norm_data['Glucose'],norm_data['Leptin'],c=clusters.labels_)\n"
      ],
      "metadata": {
        "colab": {
          "base_uri": "https://localhost:8080/",
          "height": 1000
        },
        "id": "R-u6tt7jn3SI",
        "outputId": "e5f6a7ab-558f-4292-df10-c8146caa76af"
      },
      "execution_count": 29,
      "outputs": [
        {
          "output_type": "execute_result",
          "data": {
            "text/plain": [
              "<matplotlib.collections.PathCollection at 0x7f9f962b0f40>"
            ]
          },
          "metadata": {},
          "execution_count": 29
        },
        {
          "output_type": "display_data",
          "data": {
            "text/plain": [
              "<Figure size 432x288 with 1 Axes>"
            ],
            "image/png": "[encoded data removed]"
          },
          "metadata": {
            "needs_background": "light"
          }
        },
        {
          "output_type": "display_data",
          "data": {
            "text/plain": [
              "<Figure size 576x432 with 1 Axes>"
            ],
            "image/png": "[encoded data removed]"
          },
          "metadata": {
            "needs_background": "light"
          }
        },
        {
          "output_type": "display_data",
          "data": {
            "text/plain": [
              "<Figure size 576x432 with 1 Axes>"
            ],
            "image/png": "[encoded data removed]"
          },
          "metadata": {
            "needs_background": "light"
          }
        }
      ]
    },
    {
      "cell_type": "code",
      "source": [
        "#Decision tree\n",
        "import pandas as pd\n",
        "import graphviz\n",
        "data = pd.read_csv(\"/content/drive/MyDrive/Data/Housing.csv\")\n",
        "data.head()\n",
        "\n",
        "from sklearn.model_selection import train_test_split\n",
        "x= data[['price', 'area', 'bedrooms']].values\n",
        "y= data[['furnishingstatus']].values\n",
        "\n",
        "x_train , x_test, y_train, y_test = train_test_split(x,y,test_size = 0.3,random_state=1)\n",
        "\n",
        "from sklearn import tree\n",
        "from sklearn.model_selection import train_test_split\n",
        "model = tree.DecisionTreeClassifier()\n",
        "model = model.fit(x_train, y_train)\n",
        "\n",
        "predicted_value = model.predict(x_test)\n",
        "print(predicted_value)\n",
        "\n",
        "tree.plot_tree(model)\n",
        "\n",
        "from sklearn.metrics import classification_report\n",
        "print(classification_report(y_test,predicted_value))\n",
        "\n",
        "# import matplotlib.pyplot as plt\n",
        "# fig, axes = plt.subplots(nrows = 1,ncols = 1,figsize = (8,8), dpi=150)\n",
        "# tree.plot_tree(model,filled = True);\n",
        "# fig.savefig('imagename.png')\n",
        "\n",
        "# dot_data = tree.export_graphviz(model, out_file=None,filled=True, rounded=True, special_characters=True)\n",
        "# graph = graphviz.Source(dot_data)   \n",
        "# graph"
      ],
      "metadata": {
        "colab": {
          "base_uri": "https://localhost:8080/",
          "height": 1000
        },
        "id": "z30Wx2_QpcE6",
        "outputId": "f039d6e6-5722-4ecf-f2a6-8e9eef7365dc"
      },
      "execution_count": 39,
      "outputs": [
        {
          "output_type": "stream",
          "name": "stdout",
          "text": [
            "['furnished' 'furnished' 'semi-furnished' 'furnished' 'unfurnished'\n",
            " 'semi-furnished' 'unfurnished' 'unfurnished' 'semi-furnished'\n",
            " 'semi-furnished' 'furnished' 'semi-furnished' 'unfurnished'\n",
            " 'semi-furnished' 'semi-furnished' 'furnished' 'furnished' 'unfurnished'\n",
            " 'semi-furnished' 'unfurnished' 'semi-furnished' 'unfurnished'\n",
            " 'semi-furnished' 'unfurnished' 'unfurnished' 'furnished' 'semi-furnished'\n",
            " 'furnished' 'semi-furnished' 'unfurnished' 'furnished' 'furnished'\n",
            " 'unfurnished' 'unfurnished' 'furnished' 'furnished' 'semi-furnished'\n",
            " 'furnished' 'semi-furnished' 'semi-furnished' 'unfurnished'\n",
            " 'semi-furnished' 'unfurnished' 'unfurnished' 'furnished' 'unfurnished'\n",
            " 'unfurnished' 'furnished' 'furnished' 'unfurnished' 'semi-furnished'\n",
            " 'semi-furnished' 'semi-furnished' 'furnished' 'furnished'\n",
            " 'semi-furnished' 'semi-furnished' 'unfurnished' 'semi-furnished'\n",
            " 'furnished' 'unfurnished' 'unfurnished' 'furnished' 'semi-furnished'\n",
            " 'semi-furnished' 'furnished' 'semi-furnished' 'unfurnished'\n",
            " 'semi-furnished' 'semi-furnished' 'unfurnished' 'semi-furnished'\n",
            " 'semi-furnished' 'unfurnished' 'furnished' 'unfurnished' 'unfurnished'\n",
            " 'furnished' 'furnished' 'semi-furnished' 'semi-furnished'\n",
            " 'semi-furnished' 'furnished' 'semi-furnished' 'semi-furnished'\n",
            " 'furnished' 'furnished' 'unfurnished' 'furnished' 'semi-furnished'\n",
            " 'unfurnished' 'unfurnished' 'furnished' 'furnished' 'unfurnished'\n",
            " 'semi-furnished' 'furnished' 'furnished' 'semi-furnished' 'furnished'\n",
            " 'semi-furnished' 'furnished' 'unfurnished' 'unfurnished' 'semi-furnished'\n",
            " 'unfurnished' 'semi-furnished' 'unfurnished' 'semi-furnished' 'furnished'\n",
            " 'furnished' 'semi-furnished' 'unfurnished' 'unfurnished' 'furnished'\n",
            " 'semi-furnished' 'semi-furnished' 'semi-furnished' 'furnished'\n",
            " 'semi-furnished' 'furnished' 'semi-furnished' 'unfurnished' 'furnished'\n",
            " 'furnished' 'semi-furnished' 'semi-furnished' 'furnished' 'unfurnished'\n",
            " 'semi-furnished' 'unfurnished' 'semi-furnished' 'semi-furnished'\n",
            " 'furnished' 'unfurnished' 'furnished' 'unfurnished' 'semi-furnished'\n",
            " 'furnished' 'semi-furnished' 'furnished' 'semi-furnished' 'unfurnished'\n",
            " 'unfurnished' 'semi-furnished' 'furnished' 'furnished' 'semi-furnished'\n",
            " 'semi-furnished' 'furnished' 'furnished' 'semi-furnished'\n",
            " 'semi-furnished' 'semi-furnished' 'semi-furnished' 'semi-furnished'\n",
            " 'furnished' 'furnished' 'unfurnished' 'furnished' 'unfurnished'\n",
            " 'unfurnished' 'furnished' 'semi-furnished']\n",
            "                precision    recall  f1-score   support\n",
            "\n",
            "     furnished       0.31      0.41      0.36        41\n",
            "semi-furnished       0.48      0.48      0.48        64\n",
            "   unfurnished       0.52      0.41      0.46        59\n",
            "\n",
            "      accuracy                           0.44       164\n",
            "     macro avg       0.44      0.44      0.43       164\n",
            "  weighted avg       0.46      0.44      0.44       164\n",
            "\n"
          ]
        },
        {
          "output_type": "display_data",
          "data": {
            "text/plain": [
              "<Figure size 432x288 with 1 Axes>"
            ],
            "image/png": "[encoded data removed]"
          },
          "metadata": {
            "needs_background": "light"
          }
        }
      ]
    },
    {
      "cell_type": "code",
      "source": [
        "#PCA\n",
        "import pandas as pd\n",
        "dataset = pd.read_csv(\"/content/drive/MyDrive/Data/Housing.csv\")\n",
        "dataset.head()\n",
        "\n",
        "a1 = dataset[\"area\"]\n",
        "a2 = dataset[\"bedrooms\"]\n",
        "import matplotlib.pyplot as plt\n",
        "plt.title(\"area vs bedrooms\")\n",
        "plt.xlabel(\"area\")\n",
        "plt.ylabel(\"bedrooms\")\n",
        "plt.plot(a1,a2,'.')\n",
        "plt.show()\n",
        "\n",
        "import numpy as np\n",
        "std1 = (a1-np.mean(a1))/np.std(a1)\n",
        "std2 = (a2-np.mean(a2))/np.std(a2)\n",
        "std3 = np.array([std1.T, std2.T])\n",
        "\n",
        "covariance = np.cov(np.array([std1,std2]))\n",
        "\n",
        "from numpy import linalg as LA\n",
        "eigen_val, eigen_vectors = LA.eig(covariance)\n",
        "print(eigen_val)\n",
        "print(eigen_vectors)\n",
        "\n",
        "new_feature = np.matmul(std3.T, eigen_vectors[1:].T)\n",
        "new_feature[:5 :]\n",
        "\n",
        "from sklearn.decomposition import PCA\n",
        "pca = PCA(n_components = 1)\n",
        "decomposed_pcs = pca.fit_transform(std3.T)\n",
        "decomposed_pcs[:5, :]\n",
        "\n",
        "from sklearn.decomposition import PCA\n",
        "pca = PCA(n_components = 2)\n",
        "decomposed_pcs = pca.fit_transform(std3.T)\n",
        "decomposed_pcs"
      ],
      "metadata": {
        "colab": {
          "base_uri": "https://localhost:8080/",
          "height": 469
        },
        "id": "aSUOy7XWtJ5Q",
        "outputId": "21e5b275-be02-49ed-b9de-c7c226b10b42"
      },
      "execution_count": 32,
      "outputs": [
        {
          "output_type": "display_data",
          "data": {
            "text/plain": [
              "<Figure size 432x288 with 1 Axes>"
            ],
            "image/png": "[encoded data removed]"
          },
          "metadata": {
            "needs_background": "light"
          }
        },
        {
          "output_type": "stream",
          "name": "stdout",
          "text": [
            "[0.8497006  1.15397587]\n",
            "[[-0.70710678 -0.70710678]\n",
            " [ 0.70710678 -0.70710678]]\n"
          ]
        },
        {
          "output_type": "execute_result",
          "data": {
            "text/plain": [
              "array([[ 1.7325146 , -0.25222009],\n",
              "       [ 2.23476069,  0.25002601],\n",
              "       [ 1.60195799,  1.53509636],\n",
              "       ...,\n",
              "       [-1.424667  ,  0.42634443],\n",
              "       [-0.69728549, -0.76414712],\n",
              "       [-0.39071969, -0.45758132]])"
            ]
          },
          "metadata": {},
          "execution_count": 32
        }
      ]
    },
    {
      "cell_type": "code",
      "source": [],
      "metadata": {
        "id": "_YlD8VQqzl4b"
      },
      "execution_count": null,
      "outputs": []
    }
  ]
}