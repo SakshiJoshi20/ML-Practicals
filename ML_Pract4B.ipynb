{
  "nbformat": 4,
  "nbformat_minor": 0,
  "metadata": {
    "colab": {
      "provenance": []
    },
    "kernelspec": {
      "name": "python3",
      "display_name": "Python 3"
    },
    "language_info": {
      "name": "python"
    }
  },
  "cells": [
    {
      "cell_type": "code",
      "execution_count": 1,
      "metadata": {
        "id": "UPgINfPMTMox"
      },
      "outputs": [],
      "source": [
        "from sklearn import linear_model\n",
        "import matplotlib.pyplot as plt\n",
        "import numpy as np\n",
        "import random"
      ]
    },
    {
      "cell_type": "code",
      "source": [
        "# let's create a linear function with some error called f\n",
        "def f(x):\n",
        "    res = x* 25 + 3\n",
        "    error = res * random.uniform(-0.12, 0.12) # you can play with the error to see how it affects the result\n",
        "    return res + error"
      ],
      "metadata": {
        "id": "zBS8ss1ITXZG"
      },
      "execution_count": 3,
      "outputs": []
    },
    {
      "cell_type": "code",
      "source": [
        "values = []\n",
        "# now using f we are going to create 300 values.\n",
        "for i in range(0, 100):\n",
        "    x = random.uniform(1, 1000)\n",
        "    y = f(x)\n",
        "    values.append((x, y))\n",
        "    regr = linear_model.LinearRegression()\n",
        "# split the values into two series instead a list of tuples\n",
        "x, y = zip(*values)\n",
        "print(x)\n",
        "print(y)\n",
        "max_x = max(x)\n",
        "min_x = min(x)"
      ],
      "metadata": {
        "colab": {
          "base_uri": "https://localhost:8080/",
          "height": 0
        },
        "id": "swPAIt8WTY1F",
        "outputId": "916717a1-4778-46d3-937b-d8bbc13bbe36"
      },
      "execution_count": 4,
      "outputs": [
        {
          "output_type": "stream",
          "name": "stdout",
          "text": [
            "(791.6308666973629, 122.35027431868367, 780.9552646694738, 239.27528928826604, 284.7398881281116, 601.9179664070853, 87.33258044098565, 543.5596534915392, 10.869523503822112, 535.4956581002319, 306.984234409933, 494.70639124465464, 101.08117325054994, 418.696520598794, 714.0825301864861, 236.86428014295035, 499.66781045236274, 920.2605557377533, 953.578797800901, 268.36856325306985, 283.6441966160436, 883.6891720626681, 216.6277777177196, 831.9796428317054, 267.37215286758385, 632.2123016799294, 536.1050512772152, 651.3682780288882, 670.1895460146288, 38.93553521489309, 721.533442216647, 973.6958063043548, 672.1929788130853, 200.47747932671098, 410.6323128104162, 363.8355783907478, 435.37574871388875, 921.0749613088299, 510.5074388870972, 984.6877798510227, 995.2634450061635, 563.0569192817111, 889.305418490758, 399.89845725874056, 126.30552943854946, 460.4758296892479, 389.4254316391145, 992.0733401081915, 686.0313204926796, 580.8852280399681, 302.61970920775696, 645.8728032619498, 775.1383161462611, 716.8336872475492, 175.28918919289765, 734.6648463379254, 329.6778788909234, 911.0735225200965, 927.2250786035929, 267.6886963669802, 565.6465626577287, 772.3474832929628, 723.2141145303654, 664.1354106831011, 303.20491338017007, 580.1707880272049, 953.7450401705077, 65.51427859196353, 621.8793086168025, 998.050181798093, 530.1532607704764, 571.804777492519, 219.51650851613294, 870.3417253385143, 934.1036872978735, 964.5083543498005, 930.0826379982991, 195.06562345112386, 708.7291114338867, 903.9309972889747, 212.64336276133784, 682.4390853299997, 250.6515026556192, 142.44363951641614, 945.6819745867828, 353.9297031843764, 93.78071084780203, 617.3011942923172, 283.1889089927102, 342.7970449542917, 813.4243293531661, 84.95938846829483, 320.64004495727386, 818.0127946007901, 958.7446744519838, 174.3082860867879, 779.8857952225213, 607.1662079122319, 744.8285645894384, 987.8909242724333)\n",
            "(20882.569095452138, 3261.499008155175, 20194.679404886083, 5329.243318495912, 7514.793794140436, 14914.922798416539, 2419.5806379706964, 13754.488219400871, 257.3939782980842, 14030.55284486412, 7075.776688729291, 12099.505570115505, 2670.6040621479565, 9920.192827885203, 19906.98410659984, 5924.117748946079, 11624.373941448082, 20399.84804385821, 21365.247651264668, 6816.683610735675, 7738.177661688696, 21697.229109943397, 5690.818980535364, 21382.610262159607, 5952.970896801667, 14475.781916578662, 12871.782132213748, 18188.82780471182, 15338.408779209974, 1002.4455675800825, 20113.429697517407, 22110.072645450164, 18771.891656159303, 4738.777966155614, 10854.936817550562, 9160.532560974541, 10531.826861228974, 24094.435612793084, 13478.415492842074, 24748.29540383995, 24327.838259221073, 13718.75724272137, 20262.53396128572, 10454.911092913695, 3064.8256747173573, 11341.611702085798, 10435.831343900612, 26956.05999960219, 17264.839799783553, 15587.636281543397, 6899.01147754183, 16854.90561858746, 20670.721679735234, 18888.803607448335, 4645.829855534266, 20106.63686463762, 9016.733141924407, 23719.99450703666, 25386.78644814404, 6352.600675330464, 15550.930820016622, 17829.09954362068, 18278.618611812377, 17083.541693848798, 8377.704721477738, 16241.914880641561, 21717.960210716337, 1497.6934715274278, 15128.164070073064, 27093.18468029789, 13802.99201592785, 15460.366439096586, 5694.495473497685, 23680.07279727357, 21828.380576959105, 21661.86170222349, 20776.03616789478, 4865.5608001089195, 17442.792770658518, 25306.85228125555, 5054.95154793724, 15940.309366896723, 6573.52532189265, 3973.4611639203767, 25086.432032834127, 8278.372772823595, 2522.920643462258, 16703.617663153702, 6943.322629594608, 9193.918864682708, 18573.03315093675, 1943.909167104519, 8093.925234137192, 18439.69813309337, 24284.323104074814, 4224.2134457341535, 17735.435104371853, 15464.887495861267, 18773.60796622654, 22439.504848726094)\n"
          ]
        }
      ]
    },
    {
      "cell_type": "code",
      "source": [
        "# split the values in training and test data.\n",
        "#x_val=np.array(x[:-20])\n",
        "#train_data_X=np.matrix(x_val.reshape(len(x_val),1))\n",
        "train_data_X = list(map(lambda x: [x], list(x[:-20])))\n",
        "train_data_Y = list(y[:-20])\n",
        "#x_val=np.array(x[-20:])\n",
        "#test_data_X=np.matrix(x_val.reshape(len(x_val),1))\n",
        "test_data_X = list(map(lambda x: [x], list(x[-20:])))\n",
        "test_data_Y = list(y[-20:])"
      ],
      "metadata": {
        "id": "JJ-mkkRqTij6"
      },
      "execution_count": 5,
      "outputs": []
    },
    {
      "cell_type": "code",
      "source": [
        "# feed the linear regression with the train data to obtain a model.\n",
        "regr.fit(train_data_X, train_data_Y)\n",
        "# check that the coeffients are the expected ones.\n",
        "m = regr.coef_[0]\n",
        "b = regr.intercept_\n",
        "print(' y = {0} * x + {1}'.format(m, b))"
      ],
      "metadata": {
        "colab": {
          "base_uri": "https://localhost:8080/",
          "height": 0
        },
        "id": "mtF35gkNTnFy",
        "outputId": "b2177e62-011e-412b-aaed-82fc09ea13df"
      },
      "execution_count": 6,
      "outputs": [
        {
          "output_type": "stream",
          "name": "stdout",
          "text": [
            " y = 24.903434484951635 * x + 204.29735318830535\n"
          ]
        }
      ]
    },
    {
      "cell_type": "code",
      "source": [
        "# now we are going to plot the points and the model obtained\n",
        "plt.scatter(x, y, color='blue')  # you can use test_data_X and test_data_Y instead.\n",
        "plt.plot([min_x, max_x], [b, m*max_x + b], 'r')\n",
        "plt.title('Fitted linear regression', fontsize=16)\n",
        "plt.xlabel('x', fontsize=13)\n",
        "plt.ylabel('y', fontsize=13)"
      ],
      "metadata": {
        "colab": {
          "base_uri": "https://localhost:8080/",
          "height": 317
        },
        "id": "PeTGMscgTqXS",
        "outputId": "7473e7e9-4755-44c2-9920-c411071403de"
      },
      "execution_count": 7,
      "outputs": [
        {
          "output_type": "execute_result",
          "data": {
            "text/plain": [
              "Text(0, 0.5, 'y')"
            ]
          },
          "metadata": {},
          "execution_count": 7
        },
        {
          "output_type": "display_data",
          "data": {
            "text/plain": [
              "<Figure size 432x288 with 1 Axes>"
            ],
            "image/png": "[encoded data removed]"
          },
          "metadata": {
            "needs_background": "light"
          }
        }
      ]
    },
    {
      "cell_type": "code",
      "source": [
        "# The mean squared error\n",
        "print(\"Mean squared error: %.2f\" % np.mean((regr.predict(test_data_X) - test_data_Y) ** 2))\n",
        "# Explained variance score: 1 is perfect prediction\n",
        "print('Variance score: %.2f' % regr.score(test_data_X, test_data_Y))"
      ],
      "metadata": {
        "colab": {
          "base_uri": "https://localhost:8080/",
          "height": 0
        },
        "id": "FGdIgpNwTu5b",
        "outputId": "8e67df36-3340-44cf-f0c0-5b806b4e02df"
      },
      "execution_count": 8,
      "outputs": [
        {
          "output_type": "stream",
          "name": "stdout",
          "text": [
            "Mean squared error: 1168006.81\n",
            "Variance score: 0.98\n"
          ]
        }
      ]
    },
    {
      "cell_type": "code",
      "source": [],
      "metadata": {
        "id": "0xziJc3xT5_d"
      },
      "execution_count": null,
      "outputs": []
    }
  ]
}